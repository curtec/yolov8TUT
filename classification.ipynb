{
 "cells": [
  {
   "cell_type": "markdown",
   "metadata": {},
   "source": [
    "# Classification\n",
    "Used to dertimine if an image/video contains a given class (object), but is not used to determine the location of the object."
   ]
  },
  {
   "cell_type": "code",
   "execution_count": 1,
   "metadata": {},
   "outputs": [
    {
     "name": "stderr",
     "output_type": "stream",
     "text": [
      "Downloading https://github.com/ultralytics/assets/releases/download/v0.0.0/yolov8x-cls.pt to 'yolov8x-cls.pt'...\n",
      "100%|██████████| 110M/110M [00:10<00:00, 11.3MB/s] \n"
     ]
    }
   ],
   "source": [
    "from ultralytics import YOLO\n",
    "\n",
    "\n",
    "# Load the model\n",
    "model = YOLO('yolov8x-cls.pt')\n"
   ]
  },
  {
   "cell_type": "code",
   "execution_count": 3,
   "metadata": {},
   "outputs": [
    {
     "name": "stderr",
     "output_type": "stream",
     "text": [
      "\n",
      "image 1/1 c:\\Users\\adam\\projects\\yolov8TUT\\black.jpg: 224x224 lion 1.00, chow 0.00, Tibetan_mastiff 0.00, cheetah 0.00, Tibetan_terrier 0.00, 165.4ms\n",
      "Speed: 8.1ms preprocess, 165.4ms inference, 0.0ms postprocess per image at shape (1, 3, 224, 224)\n",
      "Results saved to \u001b[1mresults\\predict2\u001b[0m\n"
     ]
    }
   ],
   "source": [
    "# Classification result\n",
    "result = model('black.jpg', save = True, project = \"results\")\n"
   ]
  }
 ],
 "metadata": {
  "kernelspec": {
   "display_name": "venv",
   "language": "python",
   "name": "python3"
  },
  "language_info": {
   "codemirror_mode": {
    "name": "ipython",
    "version": 3
   },
   "file_extension": ".py",
   "mimetype": "text/x-python",
   "name": "python",
   "nbconvert_exporter": "python",
   "pygments_lexer": "ipython3",
   "version": "3.11.3"
  }
 },
 "nbformat": 4,
 "nbformat_minor": 2
}
