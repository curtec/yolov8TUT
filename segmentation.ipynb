{
 "cells": [
  {
   "cell_type": "code",
   "execution_count": null,
   "metadata": {},
   "outputs": [],
   "source": [
    "from ultralytics import YOLO\n",
    "\n",
    "\n",
    "# Load the model\n",
    "model = YOLO('yolov8x-seg.pt')\n"
   ]
  },
  {
   "cell_type": "code",
   "execution_count": 7,
   "metadata": {},
   "outputs": [
    {
     "name": "stderr",
     "output_type": "stream",
     "text": [
      "\n",
      "\n",
      "WARNING  inference results will accumulate in RAM unless `stream=True` is passed, causing potential out-of-memory\n",
      "errors for large sources or long-running streams and videos. See https://docs.ultralytics.com/modes/predict/ for help.\n",
      "\n",
      "Example:\n",
      "    results = model(source=..., stream=True)  # generator of Results objects\n",
      "    for r in results:\n",
      "        boxes = r.boxes  # Boxes object for bbox outputs\n",
      "        masks = r.masks  # Masks object for segment masks outputs\n",
      "        probs = r.probs  # Class probabilities for classification outputs\n",
      "\n",
      "video 1/1 (1/460) e:\\projects\\yolov8TUT\\pexels-kammeran-gonzalezkeola-14378536 (Original).mp4: 640x384 7 airplanes, 5 birds, 887.8ms\n",
      "video 1/1 (2/460) e:\\projects\\yolov8TUT\\pexels-kammeran-gonzalezkeola-14378536 (Original).mp4: 640x384 8 airplanes, 3 birds, 784.5ms\n",
      "video 1/1 (3/460) e:\\projects\\yolov8TUT\\pexels-kammeran-gonzalezkeola-14378536 (Original).mp4: 640x384 9 airplanes, 2 birds, 786.2ms\n",
      "video 1/1 (4/460) e:\\projects\\yolov8TUT\\pexels-kammeran-gonzalezkeola-14378536 (Original).mp4: 640x384 9 airplanes, 2 birds, 761.6ms\n",
      "video 1/1 (5/460) e:\\projects\\yolov8TUT\\pexels-kammeran-gonzalezkeola-14378536 (Original).mp4: 640x384 9 airplanes, 3 birds, 764.8ms\n",
      "video 1/1 (6/460) e:\\projects\\yolov8TUT\\pexels-kammeran-gonzalezkeola-14378536 (Original).mp4: 640x384 10 airplanes, 3 birds, 745.2ms\n",
      "video 1/1 (7/460) e:\\projects\\yolov8TUT\\pexels-kammeran-gonzalezkeola-14378536 (Original).mp4: 640x384 12 airplanes, 2 birds, 765.1ms\n",
      "video 1/1 (8/460) e:\\projects\\yolov8TUT\\pexels-kammeran-gonzalezkeola-14378536 (Original).mp4: 640x384 11 airplanes, 2 birds, 848.4ms\n",
      "video 1/1 (9/460) e:\\projects\\yolov8TUT\\pexels-kammeran-gonzalezkeola-14378536 (Original).mp4: 640x384 10 airplanes, 2 birds, 755.8ms\n",
      "video 1/1 (10/460) e:\\projects\\yolov8TUT\\pexels-kammeran-gonzalezkeola-14378536 (Original).mp4: 640x384 12 airplanes, 1 bird, 684.9ms\n",
      "video 1/1 (11/460) e:\\projects\\yolov8TUT\\pexels-kammeran-gonzalezkeola-14378536 (Original).mp4: 640x384 12 airplanes, 1 bird, 763.4ms\n",
      "video 1/1 (12/460) e:\\projects\\yolov8TUT\\pexels-kammeran-gonzalezkeola-14378536 (Original).mp4: 640x384 10 airplanes, 2 birds, 750.3ms\n",
      "video 1/1 (13/460) e:\\projects\\yolov8TUT\\pexels-kammeran-gonzalezkeola-14378536 (Original).mp4: 640x384 4 airplanes, 6 birds, 718.6ms\n",
      "video 1/1 (14/460) e:\\projects\\yolov8TUT\\pexels-kammeran-gonzalezkeola-14378536 (Original).mp4: 640x384 6 airplanes, 4 birds, 750.7ms\n",
      "video 1/1 (15/460) e:\\projects\\yolov8TUT\\pexels-kammeran-gonzalezkeola-14378536 (Original).mp4: 640x384 12 airplanes, 3 birds, 733.8ms\n",
      "video 1/1 (16/460) e:\\projects\\yolov8TUT\\pexels-kammeran-gonzalezkeola-14378536 (Original).mp4: 640x384 10 airplanes, 4 birds, 767.4ms\n"
     ]
    },
    {
     "ename": "KeyboardInterrupt",
     "evalue": "",
     "output_type": "error",
     "traceback": [
      "\u001b[1;31m---------------------------------------------------------------------------\u001b[0m",
      "\u001b[1;31mKeyboardInterrupt\u001b[0m                         Traceback (most recent call last)",
      "\u001b[1;32me:\\projects\\yolov8TUT\\segmentation.ipynb Cell 2\u001b[0m line \u001b[0;36m1\n\u001b[1;32m----> <a href='vscode-notebook-cell:/e%3A/projects/yolov8TUT/segmentation.ipynb#W1sZmlsZQ%3D%3D?line=0'>1</a>\u001b[0m result \u001b[39m=\u001b[39m model(\u001b[39m'\u001b[39;49m\u001b[39mpexels-kammeran-gonzalezkeola-14378536 (Original).mp4\u001b[39;49m\u001b[39m'\u001b[39;49m, save \u001b[39m=\u001b[39;49m \u001b[39mTrue\u001b[39;49;00m, project \u001b[39m=\u001b[39;49m \u001b[39m\"\u001b[39;49m\u001b[39mresults\u001b[39;49m\u001b[39m\"\u001b[39;49m)\n",
      "File \u001b[1;32me:\\projects\\yolov8TUT\\venv\\Lib\\site-packages\\ultralytics\\engine\\model.py:98\u001b[0m, in \u001b[0;36mModel.__call__\u001b[1;34m(self, source, stream, **kwargs)\u001b[0m\n\u001b[0;32m     96\u001b[0m \u001b[39mdef\u001b[39;00m \u001b[39m__call__\u001b[39m(\u001b[39mself\u001b[39m, source\u001b[39m=\u001b[39m\u001b[39mNone\u001b[39;00m, stream\u001b[39m=\u001b[39m\u001b[39mFalse\u001b[39;00m, \u001b[39m*\u001b[39m\u001b[39m*\u001b[39mkwargs):\n\u001b[0;32m     97\u001b[0m \u001b[39m    \u001b[39m\u001b[39m\"\"\"Calls the 'predict' function with given arguments to perform object detection.\"\"\"\u001b[39;00m\n\u001b[1;32m---> 98\u001b[0m     \u001b[39mreturn\u001b[39;00m \u001b[39mself\u001b[39;49m\u001b[39m.\u001b[39;49mpredict(source, stream, \u001b[39m*\u001b[39;49m\u001b[39m*\u001b[39;49mkwargs)\n",
      "File \u001b[1;32me:\\projects\\yolov8TUT\\venv\\Lib\\site-packages\\ultralytics\\engine\\model.py:239\u001b[0m, in \u001b[0;36mModel.predict\u001b[1;34m(self, source, stream, predictor, **kwargs)\u001b[0m\n\u001b[0;32m    237\u001b[0m \u001b[39mif\u001b[39;00m prompts \u001b[39mand\u001b[39;00m \u001b[39mhasattr\u001b[39m(\u001b[39mself\u001b[39m\u001b[39m.\u001b[39mpredictor, \u001b[39m'\u001b[39m\u001b[39mset_prompts\u001b[39m\u001b[39m'\u001b[39m):  \u001b[39m# for SAM-type models\u001b[39;00m\n\u001b[0;32m    238\u001b[0m     \u001b[39mself\u001b[39m\u001b[39m.\u001b[39mpredictor\u001b[39m.\u001b[39mset_prompts(prompts)\n\u001b[1;32m--> 239\u001b[0m \u001b[39mreturn\u001b[39;00m \u001b[39mself\u001b[39m\u001b[39m.\u001b[39mpredictor\u001b[39m.\u001b[39mpredict_cli(source\u001b[39m=\u001b[39msource) \u001b[39mif\u001b[39;00m is_cli \u001b[39melse\u001b[39;00m \u001b[39mself\u001b[39;49m\u001b[39m.\u001b[39;49mpredictor(source\u001b[39m=\u001b[39;49msource, stream\u001b[39m=\u001b[39;49mstream)\n",
      "File \u001b[1;32me:\\projects\\yolov8TUT\\venv\\Lib\\site-packages\\ultralytics\\engine\\predictor.py:198\u001b[0m, in \u001b[0;36mBasePredictor.__call__\u001b[1;34m(self, source, model, stream, *args, **kwargs)\u001b[0m\n\u001b[0;32m    196\u001b[0m     \u001b[39mreturn\u001b[39;00m \u001b[39mself\u001b[39m\u001b[39m.\u001b[39mstream_inference(source, model, \u001b[39m*\u001b[39margs, \u001b[39m*\u001b[39m\u001b[39m*\u001b[39mkwargs)\n\u001b[0;32m    197\u001b[0m \u001b[39melse\u001b[39;00m:\n\u001b[1;32m--> 198\u001b[0m     \u001b[39mreturn\u001b[39;00m \u001b[39mlist\u001b[39;49m(\u001b[39mself\u001b[39;49m\u001b[39m.\u001b[39;49mstream_inference(source, model, \u001b[39m*\u001b[39;49margs, \u001b[39m*\u001b[39;49m\u001b[39m*\u001b[39;49mkwargs))\n",
      "File \u001b[1;32me:\\projects\\yolov8TUT\\venv\\Lib\\site-packages\\torch\\utils\\_contextlib.py:56\u001b[0m, in \u001b[0;36m_wrap_generator.<locals>.generator_context\u001b[1;34m(*args, **kwargs)\u001b[0m\n\u001b[0;32m     53\u001b[0m         \u001b[39melse\u001b[39;00m:\n\u001b[0;32m     54\u001b[0m             \u001b[39m# Pass the last request to the generator and get its response\u001b[39;00m\n\u001b[0;32m     55\u001b[0m             \u001b[39mwith\u001b[39;00m ctx_factory():\n\u001b[1;32m---> 56\u001b[0m                 response \u001b[39m=\u001b[39m gen\u001b[39m.\u001b[39msend(request)\n\u001b[0;32m     58\u001b[0m \u001b[39m# We let the exceptions raised above by the generator's `.throw` or\u001b[39;00m\n\u001b[0;32m     59\u001b[0m \u001b[39m# `.send` methods bubble up to our caller, except for StopIteration\u001b[39;00m\n\u001b[0;32m     60\u001b[0m \u001b[39mexcept\u001b[39;00m \u001b[39mStopIteration\u001b[39;00m \u001b[39mas\u001b[39;00m e:\n\u001b[0;32m     61\u001b[0m     \u001b[39m# The generator informed us that it is done: take whatever its\u001b[39;00m\n\u001b[0;32m     62\u001b[0m     \u001b[39m# returned value (if any) was and indicate that we're done too\u001b[39;00m\n\u001b[0;32m     63\u001b[0m     \u001b[39m# by returning it (see docs for python's return-statement).\u001b[39;00m\n",
      "File \u001b[1;32me:\\projects\\yolov8TUT\\venv\\Lib\\site-packages\\ultralytics\\engine\\predictor.py:282\u001b[0m, in \u001b[0;36mBasePredictor.stream_inference\u001b[1;34m(self, source, model, *args, **kwargs)\u001b[0m\n\u001b[0;32m    279\u001b[0m p \u001b[39m=\u001b[39m Path(p)\n\u001b[0;32m    281\u001b[0m \u001b[39mif\u001b[39;00m \u001b[39mself\u001b[39m\u001b[39m.\u001b[39margs\u001b[39m.\u001b[39mverbose \u001b[39mor\u001b[39;00m \u001b[39mself\u001b[39m\u001b[39m.\u001b[39margs\u001b[39m.\u001b[39msave \u001b[39mor\u001b[39;00m \u001b[39mself\u001b[39m\u001b[39m.\u001b[39margs\u001b[39m.\u001b[39msave_txt \u001b[39mor\u001b[39;00m \u001b[39mself\u001b[39m\u001b[39m.\u001b[39margs\u001b[39m.\u001b[39mshow:\n\u001b[1;32m--> 282\u001b[0m     s \u001b[39m+\u001b[39m\u001b[39m=\u001b[39m \u001b[39mself\u001b[39;49m\u001b[39m.\u001b[39;49mwrite_results(i, \u001b[39mself\u001b[39;49m\u001b[39m.\u001b[39;49mresults, (p, im, im0))\n\u001b[0;32m    283\u001b[0m \u001b[39mif\u001b[39;00m \u001b[39mself\u001b[39m\u001b[39m.\u001b[39margs\u001b[39m.\u001b[39msave \u001b[39mor\u001b[39;00m \u001b[39mself\u001b[39m\u001b[39m.\u001b[39margs\u001b[39m.\u001b[39msave_txt:\n\u001b[0;32m    284\u001b[0m     \u001b[39mself\u001b[39m\u001b[39m.\u001b[39mresults[i]\u001b[39m.\u001b[39msave_dir \u001b[39m=\u001b[39m \u001b[39mself\u001b[39m\u001b[39m.\u001b[39msave_dir\u001b[39m.\u001b[39m\u001b[39m__str__\u001b[39m()\n",
      "File \u001b[1;32me:\\projects\\yolov8TUT\\venv\\Lib\\site-packages\\ultralytics\\engine\\predictor.py:178\u001b[0m, in \u001b[0;36mBasePredictor.write_results\u001b[1;34m(self, idx, results, batch)\u001b[0m\n\u001b[0;32m    176\u001b[0m     \u001b[39mif\u001b[39;00m \u001b[39mnot\u001b[39;00m \u001b[39mself\u001b[39m\u001b[39m.\u001b[39margs\u001b[39m.\u001b[39mretina_masks:\n\u001b[0;32m    177\u001b[0m         plot_args[\u001b[39m'\u001b[39m\u001b[39mim_gpu\u001b[39m\u001b[39m'\u001b[39m] \u001b[39m=\u001b[39m im[idx]\n\u001b[1;32m--> 178\u001b[0m     \u001b[39mself\u001b[39m\u001b[39m.\u001b[39mplotted_img \u001b[39m=\u001b[39m result\u001b[39m.\u001b[39;49mplot(\u001b[39m*\u001b[39;49m\u001b[39m*\u001b[39;49mplot_args)\n\u001b[0;32m    179\u001b[0m \u001b[39m# Write\u001b[39;00m\n\u001b[0;32m    180\u001b[0m \u001b[39mif\u001b[39;00m \u001b[39mself\u001b[39m\u001b[39m.\u001b[39margs\u001b[39m.\u001b[39msave_txt:\n",
      "File \u001b[1;32me:\\projects\\yolov8TUT\\venv\\Lib\\site-packages\\ultralytics\\engine\\results.py:240\u001b[0m, in \u001b[0;36mResults.plot\u001b[1;34m(self, conf, line_width, font_size, font, pil, img, im_gpu, kpt_radius, kpt_line, labels, boxes, masks, probs)\u001b[0m\n\u001b[0;32m    237\u001b[0m         im_gpu \u001b[39m=\u001b[39m torch\u001b[39m.\u001b[39mas_tensor(img, dtype\u001b[39m=\u001b[39mtorch\u001b[39m.\u001b[39mfloat16, device\u001b[39m=\u001b[39mpred_masks\u001b[39m.\u001b[39mdata\u001b[39m.\u001b[39mdevice)\u001b[39m.\u001b[39mpermute(\n\u001b[0;32m    238\u001b[0m             \u001b[39m2\u001b[39m, \u001b[39m0\u001b[39m, \u001b[39m1\u001b[39m)\u001b[39m.\u001b[39mflip(\u001b[39m0\u001b[39m)\u001b[39m.\u001b[39mcontiguous() \u001b[39m/\u001b[39m \u001b[39m255\u001b[39m\n\u001b[0;32m    239\u001b[0m     idx \u001b[39m=\u001b[39m pred_boxes\u001b[39m.\u001b[39mcls \u001b[39mif\u001b[39;00m pred_boxes \u001b[39melse\u001b[39;00m \u001b[39mrange\u001b[39m(\u001b[39mlen\u001b[39m(pred_masks))\n\u001b[1;32m--> 240\u001b[0m     annotator\u001b[39m.\u001b[39;49mmasks(pred_masks\u001b[39m.\u001b[39;49mdata, colors\u001b[39m=\u001b[39;49m[colors(x, \u001b[39mTrue\u001b[39;49;00m) \u001b[39mfor\u001b[39;49;00m x \u001b[39min\u001b[39;49;00m idx], im_gpu\u001b[39m=\u001b[39;49mim_gpu)\n\u001b[0;32m    242\u001b[0m \u001b[39m# Plot Detect results\u001b[39;00m\n\u001b[0;32m    243\u001b[0m \u001b[39mif\u001b[39;00m pred_boxes \u001b[39mand\u001b[39;00m show_boxes:\n",
      "File \u001b[1;32me:\\projects\\yolov8TUT\\venv\\Lib\\site-packages\\ultralytics\\utils\\plotting.py:165\u001b[0m, in \u001b[0;36mAnnotator.masks\u001b[1;34m(self, masks, colors, im_gpu, alpha, retina_masks)\u001b[0m\n\u001b[0;32m    163\u001b[0m im_gpu \u001b[39m=\u001b[39m im_gpu \u001b[39m*\u001b[39m inv_alpha_masks[\u001b[39m-\u001b[39m\u001b[39m1\u001b[39m] \u001b[39m+\u001b[39m mcs\n\u001b[0;32m    164\u001b[0m im_mask \u001b[39m=\u001b[39m (im_gpu \u001b[39m*\u001b[39m \u001b[39m255\u001b[39m)\n\u001b[1;32m--> 165\u001b[0m im_mask_np \u001b[39m=\u001b[39m im_mask\u001b[39m.\u001b[39;49mbyte()\u001b[39m.\u001b[39mcpu()\u001b[39m.\u001b[39mnumpy()\n\u001b[0;32m    166\u001b[0m \u001b[39mself\u001b[39m\u001b[39m.\u001b[39mim[:] \u001b[39m=\u001b[39m im_mask_np \u001b[39mif\u001b[39;00m retina_masks \u001b[39melse\u001b[39;00m ops\u001b[39m.\u001b[39mscale_image(im_mask_np, \u001b[39mself\u001b[39m\u001b[39m.\u001b[39mim\u001b[39m.\u001b[39mshape)\n\u001b[0;32m    167\u001b[0m \u001b[39mif\u001b[39;00m \u001b[39mself\u001b[39m\u001b[39m.\u001b[39mpil:\n\u001b[0;32m    168\u001b[0m     \u001b[39m# Convert im back to PIL and update draw\u001b[39;00m\n",
      "\u001b[1;31mKeyboardInterrupt\u001b[0m: "
     ]
    }
   ],
   "source": [
    "result = model('pexels-kammeran-gonzalezkeola-14378536 (Original).mp4', save = True, project = \"results\")"
   ]
  }
 ],
 "metadata": {
  "kernelspec": {
   "display_name": "venv",
   "language": "python",
   "name": "python3"
  },
  "language_info": {
   "codemirror_mode": {
    "name": "ipython",
    "version": 3
   },
   "file_extension": ".py",
   "mimetype": "text/x-python",
   "name": "python",
   "nbconvert_exporter": "python",
   "pygments_lexer": "ipython3",
   "version": "3.11.3"
  }
 },
 "nbformat": 4,
 "nbformat_minor": 2
}
